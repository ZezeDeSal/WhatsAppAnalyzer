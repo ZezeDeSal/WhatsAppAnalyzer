{
 "cells": [],
 "metadata": {
  "kernelspec": {
   "display_name": "Python 3",
   "language": "python",
   "name": "python3"
  },
  "language_info": {
   "codemirror_mode": {
    "name": "ipython",
    "version": 2
   },
   "file_extension": ".py",
   "mimetype": "text/x-python",
   "name": "python",
   "nbconvert_exporter": "python",
   "pygments_lexer": "ipython2",
   "version": "2.7.6"
  },
  "pycharm": {
   "stem_cell": {
    "cell_type": "raw",
    "source": [
     "##\n",
     "import pandas as pd\n",
     "import re\n",
     "import matplotlib.pyplot as plt\n",
     "import seaborn as sns\n",
     "\n",
     "##\n",
     "def read_chat(path):\n",
     "    '''\n",
     "    :Path of the chat file, exported from android:\n",
     "    :Returns the chat file as a pandas DataFrame:\n",
     "    '''\n",
     "    chat = open(r\"data/HierNimmt.txt\", \"r\").read()\n",
     "    date_format = re.compile(r\"\\d{2}/\\d{2}/\\d{4},\\s\\d{2}:\\d{2}\")\n",
     "    dates = date_format.findall(chat)\n",
     "    messages = date_format.split(chat)\n",
     "    chat_df = pd.DataFrame()\n",
     "    chat_df[\"datetime\"] = dates\n",
     "    chat_df[\"messages\"] = messages[1:]\n",
     "    return chat_df\n",
     "\n",
     "def transform_chat(chat):\n",
     "    #&& Testing\n",
     "    chat[\"datetime\"] = pd.to_datetime(chat[\"datetime\"])\n",
     "    chat_df = pd.concat(\n",
     "        [chat, chat[\"messages\"].str.split(\":\", 1, True)], axis = 1\n",
     "    )\n",
     "    chat_df.rename(\n",
     "        {\"messages\" : \"unaltered_messages\", 0 : \"user\", 1 : \"message\"},\n",
     "        inplace = True, axis = 1\n",
     "    )\n",
     "    chat_df.user.replace(\n",
     "        regex=True, inplace=True, to_replace=r\"\\s-\\s\", value=r\"\"\n",
     "    )\n",
     "    return chat_df\n",
     "\n",
     "chat_path = r\"data/HierNimmt.txt\"\n",
     "chat = read_chat(chat_path)\n",
     "chat_df = transform_chat(chat)\n",
     "\n",
     "##\n",
     "\n",
     "chat_df[\"message_length\"] = chat_df.message.str.len()\n",
     "print(chat_df.loc[~chat_df[\"user\"].str.contains(\"subject\")]\n",
     "      .groupby(\"user\")[\"message_length\"].sum().dropna()\n",
     "      .sort_values(ascending = False).head(7))\n",
     "\n",
     "##"
    ],
    "metadata": {
     "collapsed": false
    }
   }
  }
 },
 "nbformat": 4,
 "nbformat_minor": 0
}