{
 "cells": [
  {
   "cell_type": "markdown",
   "metadata": {},
   "source": [
    "Import packages"
   ]
  },
  {
   "cell_type": "code",
   "execution_count": 3,
   "metadata": {},
   "outputs": [],
   "source": [
    "# Simple class to download files directly from google drive\n",
    "from google_drive_downloader import GoogleDriveDownloader as gdd\n",
    "\n",
    "# Miscellaneous operating system interfaces\n",
    "import os as os\n",
    "\n",
    "# Basic date and time types\n",
    "import datetime as dt"
   ]
  },
  {
   "cell_type": "markdown",
   "metadata": {},
   "source": [
    "File downloader"
   ]
  },
  {
   "cell_type": "code",
   "execution_count": 4,
   "metadata": {},
   "outputs": [
    {
     "name": "stdout",
     "output_type": "stream",
     "text": [
      "Downloading 1yvKE3iHCT8Rjm_iUkSJzXHVbiVhC3xxL into ./Chatlog.txt... Done.\n"
     ]
    }
   ],
   "source": [
    "gdd.download_file_from_google_drive(file_id='1yvKE3iHCT8Rjm_iUkSJzXHVbiVhC3xxL',\n",
    "                                    dest_path='./Chatlog.txt',\n",
    "                                    unzip=False,\n",
    "                                    overwrite=True)"
   ]
  }
 ],
 "metadata": {
  "kernelspec": {
   "display_name": "Python 3",
   "language": "python",
   "name": "python3"
  },
  "language_info": {
   "codemirror_mode": {
    "name": "ipython",
    "version": 3
   },
   "file_extension": ".py",
   "mimetype": "text/x-python",
   "name": "python",
   "nbconvert_exporter": "python",
   "pygments_lexer": "ipython3",
   "version": "3.7.3"
  }
 },
 "nbformat": 4,
 "nbformat_minor": 2
}
