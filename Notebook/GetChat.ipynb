{
 "cells": [
  {
   "cell_type": "markdown",
   "metadata": {},
   "source": [
    "Import packages"
   ]
  },
  {
   "cell_type": "code",
   "execution_count": 28,
   "metadata": {},
   "outputs": [],
   "source": [
    "# Google Drive stuff\n",
    "from __future__ import print_function\n",
    "import pickle\n",
    "from googleapiclient.discovery import build\n",
    "from google_auth_oauthlib.flow import InstalledAppFlow\n",
    "from google.auth.transport.requests import Request\n",
    "\n",
    "# Simple class to download files directly from google drive\n",
    "from google_drive_downloader import GoogleDriveDownloader as gdd\n",
    "\n",
    "# Miscellaneous operating system interfaces\n",
    "import os as os\n",
    "\n",
    "# Basic date and time types\n",
    "import datetime as dt"
   ]
  },
  {
   "cell_type": "code",
   "execution_count": 29,
   "metadata": {},
   "outputs": [
    {
     "name": "stdout",
     "output_type": "stream",
     "text": [
      "Files:\n",
      "WhatsAppAnalyzer (1W0YKkX_-_2ysTXoKcLm6IdPkQQ2i7Poe)\n",
      "IMG_3220.JPG (16OLIMxozat3ol3APjK7r0-9AJMDkXpOb)\n",
      "IMG_3221.JPG (1Y4b5FJADVinZfwj5Ct4-zXQ-osc1bpP4)\n",
      "IMG_3222.JPG (1LW0mgtMsw9ZV4_B8HP8t__qwx60oJm8V)\n",
      "IMG_3181.JPG (1aF0yKNQrF5co0OAhg0044MJmG0KrhaP_)\n",
      "IMG_3179.JPG (1msP6T94nQdBxUFih_hJcbrN5CIKXRJ9T)\n",
      "IMG_3178.JPG (1RnbaS0esshb2liUkz5HhHdRlRS3r4Ck1)\n",
      "IMG_3184.JPG (1C2E8MI608fDmxpNodWkicFoTqPYiqEwW)\n",
      "IMG_3185.JPG (1Ooh1KAd5vSgHZawu7aIaNK3YYEtSy5vV)\n",
      "IMG_3228.JPG (1xC3_nLWOTTUqTtTXf8f0InLz7H7xAzZ6)\n"
     ]
    }
   ],
   "source": [
    "# If modifying these scopes, delete the file token.pickle.\n",
    "SCOPES = ['https://www.googleapis.com/auth/drive.metadata.readonly']\n",
    "\n",
    "def main():\n",
    "    \"\"\"Shows basic usage of the Drive v3 API.\n",
    "    Prints the names and ids of the first 10 files the user has access to.\n",
    "    \"\"\"\n",
    "    creds = None\n",
    "    # The file token.pickle stores the user's access and refresh tokens, and is\n",
    "    # created automatically when the authorization flow completes for the first\n",
    "    # time.\n",
    "    if os.path.exists('token.pickle'):\n",
    "        with open('token.pickle', 'rb') as token:\n",
    "            creds = pickle.load(token)\n",
    "    # If there are no (valid) credentials available, let the user log in.\n",
    "    if not creds or not creds.valid:\n",
    "        if creds and creds.expired and creds.refresh_token:\n",
    "            creds.refresh(Request())\n",
    "        else:\n",
    "            flow = InstalledAppFlow.from_client_secrets_file(\n",
    "                'credentials.json', SCOPES)\n",
    "            creds = flow.run_local_server()\n",
    "        # Save the credentials for the next run\n",
    "        with open('token.pickle', 'wb') as token:\n",
    "            pickle.dump(creds, token)\n",
    "\n",
    "    service = build('drive', 'v3', credentials=creds)\n",
    "\n",
    "    # Call the Drive v3 API\n",
    "    results = service.files().list(\n",
    "        pageSize=10, fields=\"nextPageToken, files(id, name)\").execute()\n",
    "    items = results.get('files', [])\n",
    "\n",
    "    if not items:\n",
    "        print('No files found.')\n",
    "    else:\n",
    "        print('Files:')\n",
    "        for item in items:\n",
    "            print(u'{0} ({1})'.format(item['name'], item['id']))\n",
    "\n",
    "if __name__ == '__main__':\n",
    "    main()"
   ]
  },
  {
   "cell_type": "markdown",
   "metadata": {},
   "source": [
    "Deicde when to fetch a new chatlog file"
   ]
  },
  {
   "cell_type": "code",
   "execution_count": 30,
   "metadata": {},
   "outputs": [
    {
     "name": "stdout",
     "output_type": "stream",
     "text": [
      "File already exists\n",
      "File is not more than two days old, new file won't be fetched.\n"
     ]
    }
   ],
   "source": [
    "# Fetche das aktuelle Chatlog, wenn das aktuell gefetchte Chatlog älter als zwei Tage ist, oder das Chatlog nicht vorhanden ist\n",
    "\n",
    "# Fall 2: Chatlog ist nicht vorhanden:\n",
    "if os.path.isfile('./Chatlog.txt'):\n",
    "    FileDoesntExist=False\n",
    "    print(\"File already exists\")\n",
    "else:\n",
    "    FileDoesntExist=True\n",
    "    print(\"File doesn't exist\")\n",
    "\n",
    "# Fall 1: Timestamp des Chatlogs ist älter als zwei Tage:\n",
    "if not FileDoesntExist:\n",
    "    two_days_ago = dt.datetime.now() - dt.timedelta(days=2)\n",
    "    filetime = dt.datetime.fromtimestamp(os.path.getctime('./Chatlog.txt'))\n",
    "\n",
    "    if filetime < two_days_ago:\n",
    "        FetchFileDate=True\n",
    "        print(\"File is more than two days old, new file will be fetched.\")\n",
    "\n",
    "    elif filetime > two_days_ago:\n",
    "        FetchFileDate=False\n",
    "        print(\"File is not more than two days old, new file won't be fetched.\")"
   ]
  },
  {
   "cell_type": "markdown",
   "metadata": {},
   "source": [
    "File downloader"
   ]
  },
  {
   "cell_type": "code",
   "execution_count": 31,
   "metadata": {},
   "outputs": [
    {
     "name": "stdout",
     "output_type": "stream",
     "text": [
      "Downloading 1yvKE3iHCT8Rjm_iUkSJzXHVbiVhC3xxL into ./Chatlog.txt... Done.\n"
     ]
    }
   ],
   "source": [
    "gdd.download_file_from_google_drive(file_id='1yvKE3iHCT8Rjm_iUkSJzXHVbiVhC3xxL',\n",
    "                                    dest_path='./Chatlog.txt',\n",
    "                                    unzip=False,\n",
    "                                    overwrite=True)"
   ]
  },
  {
   "cell_type": "code",
   "execution_count": null,
   "metadata": {},
   "outputs": [],
   "source": []
  }
 ],
 "metadata": {
  "kernelspec": {
   "display_name": "Python 3",
   "language": "python",
   "name": "python3"
  },
  "language_info": {
   "codemirror_mode": {
    "name": "ipython",
    "version": 3
   },
   "file_extension": ".py",
   "mimetype": "text/x-python",
   "name": "python",
   "nbconvert_exporter": "python",
   "pygments_lexer": "ipython3",
   "version": "3.7.3"
  }
 },
 "nbformat": 4,
 "nbformat_minor": 2
}
