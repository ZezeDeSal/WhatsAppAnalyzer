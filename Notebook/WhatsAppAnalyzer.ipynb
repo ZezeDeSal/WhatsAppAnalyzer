{
 "cells": [
  {
   "cell_type": "markdown",
   "metadata": {},
   "source": [
    "Importieren grundlegender Packages"
   ]
  },
  {
   "cell_type": "code",
   "execution_count": 3,
   "metadata": {},
   "outputs": [],
   "source": [
    "# Dataframes und Datenanalyse-Funktionen\n",
    "import pandas as pd\n",
    "\n",
    "# Numerische Berechnungen mit Dataframes/Listen etc. \n",
    "import numpy as np\n",
    "\n",
    "# \"Simple\" Diagramme\n",
    "import matplotlib.pyplot as plt\n",
    "\n",
    "# Komplexe Diagramme (exportierbar in html)\n",
    "import seaborn as sns\n",
    "\n",
    "# Einfache Klasse zum herunterladen von Google Drive Dateien\n",
    "from google_drive_downloader import GoogleDriveDownloader as gdd"
   ]
  },
  {
   "cell_type": "markdown",
   "metadata": {},
   "source": [
    "Einlesen des Chatverlaufs und Definition des Chat-Dataframes"
   ]
  },
  {
   "cell_type": "code",
   "execution_count": 4,
   "metadata": {},
   "outputs": [],
   "source": [
    "# Format des Chatverlaufs?\n",
    "#chat = "
   ]
  },
  {
   "cell_type": "markdown",
   "metadata": {},
   "source": [
    "Fetchen des aktuellen Chatlogs"
   ]
  },
  {
   "cell_type": "code",
   "execution_count": 5,
   "metadata": {},
   "outputs": [
    {
     "name": "stdout",
     "output_type": "stream",
     "text": [
      "Downloading 1yvKE3iHCT8Rjm_iUkSJzXHVbiVhC3xxL into ./Chatlog.txt... Done.\n"
     ]
    }
   ],
   "source": [
    "# ToDo: Definiertes ausführen des Fetchvorgangs, abhängig davon wie alt das File ist\n",
    "\n",
    "gdd.download_file_from_google_drive(file_id='1yvKE3iHCT8Rjm_iUkSJzXHVbiVhC3xxL',\n",
    "                                    dest_path='./Chatlog.txt',\n",
    "                                    unzip=False,\n",
    "                                    overwrite=True)"
   ]
  }
 ],
 "metadata": {
  "kernelspec": {
   "display_name": "Python 3",
   "language": "python",
   "name": "python3"
  },
  "language_info": {
   "codemirror_mode": {
    "name": "ipython",
    "version": 3
   },
   "file_extension": ".py",
   "mimetype": "text/x-python",
   "name": "python",
   "nbconvert_exporter": "python",
   "pygments_lexer": "ipython3",
   "version": "3.7.3"
  }
 },
 "nbformat": 4,
 "nbformat_minor": 2
}
