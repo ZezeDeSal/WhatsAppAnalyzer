{
 "cells": [
  {
   "cell_type": "markdown",
   "metadata": {},
   "source": [
    "Importieren grundlegender Packages"
   ]
  },
  {
   "cell_type": "code",
   "execution_count": 94,
   "metadata": {},
   "outputs": [],
   "source": [
    "# Dataframes und Datenanalyse-Funktionen\n",
    "import pandas as pd\n",
    "# Warnung für chained assignments ausschalten\n",
    "pd.options.mode.chained_assignment = None\n",
    "\n",
    "# Numerische Berechnungen mit Dataframes/Listen etc. \n",
    "import numpy as np\n",
    "\n",
    "# \"Simple\" Diagramme\n",
    "import matplotlib.pyplot as plt\n",
    "\n",
    "# Komplexe Diagramme (exportierbar in html)\n",
    "import seaborn as sns\n",
    "\n",
    "# Einfache Klasse zum herunterladen von Google Drive Dateien\n",
    "from google_drive_downloader import GoogleDriveDownloader as gdd\n",
    "\n",
    "# Miscellaneous operating system interfaces\n",
    "import os as os\n",
    "\n",
    "# Basic date and time types\n",
    "import datetime as dt"
   ]
  },
  {
   "cell_type": "markdown",
   "metadata": {},
   "source": [
    "Definition des Chat-Dataframes"
   ]
  },
  {
   "cell_type": "code",
   "execution_count": 116,
   "metadata": {},
   "outputs": [
    {
     "data": {
      "text/html": [
       "<div>\n",
       "<style scoped>\n",
       "    .dataframe tbody tr th:only-of-type {\n",
       "        vertical-align: middle;\n",
       "    }\n",
       "\n",
       "    .dataframe tbody tr th {\n",
       "        vertical-align: top;\n",
       "    }\n",
       "\n",
       "    .dataframe thead th {\n",
       "        text-align: right;\n",
       "    }\n",
       "</style>\n",
       "<table border=\"1\" class=\"dataframe\">\n",
       "  <thead>\n",
       "    <tr style=\"text-align: right;\">\n",
       "      <th></th>\n",
       "      <th>timestamp</th>\n",
       "      <th>name_and_message</th>\n",
       "      <th>message</th>\n",
       "      <th>replied</th>\n",
       "    </tr>\n",
       "  </thead>\n",
       "  <tbody>\n",
       "    <tr>\n",
       "      <th>89995</th>\n",
       "      <td>[27.04.19, 18:51:49</td>\n",
       "      <td>Tim Ackermann: ‎Bild weggelassen</td>\n",
       "      <td></td>\n",
       "      <td>False</td>\n",
       "    </tr>\n",
       "    <tr>\n",
       "      <th>89996</th>\n",
       "      <td>[27.04.19, 19:11:07</td>\n",
       "      <td>Yannic Büchele: ?</td>\n",
       "      <td></td>\n",
       "      <td>False</td>\n",
       "    </tr>\n",
       "    <tr>\n",
       "      <th>89997</th>\n",
       "      <td>[27.04.19, 19:22:46</td>\n",
       "      <td>emptytides: .</td>\n",
       "      <td></td>\n",
       "      <td>False</td>\n",
       "    </tr>\n",
       "    <tr>\n",
       "      <th>89998</th>\n",
       "      <td>[27.04.19, 19:26:15</td>\n",
       "      <td>Yannic Büchele: Echt so</td>\n",
       "      <td></td>\n",
       "      <td>False</td>\n",
       "    </tr>\n",
       "    <tr>\n",
       "      <th>89999</th>\n",
       "      <td>[27.04.19, 19:26:18</td>\n",
       "      <td>Yannic Büchele: Richtig was los hier</td>\n",
       "      <td></td>\n",
       "      <td>False</td>\n",
       "    </tr>\n",
       "  </tbody>\n",
       "</table>\n",
       "</div>"
      ],
      "text/plain": [
       "                 timestamp                       name_and_message message  \\\n",
       "89995  [27.04.19, 18:51:49       Tim Ackermann: ‎Bild weggelassen           \n",
       "89996  [27.04.19, 19:11:07                      Yannic Büchele: ?           \n",
       "89997  [27.04.19, 19:22:46                          emptytides: .           \n",
       "89998  [27.04.19, 19:26:15                Yannic Büchele: Echt so           \n",
       "89999  [27.04.19, 19:26:18   Yannic Büchele: Richtig was los hier           \n",
       "\n",
       "       replied  \n",
       "89995    False  \n",
       "89996    False  \n",
       "89997    False  \n",
       "89998    False  \n",
       "89999    False  "
      ]
     },
     "execution_count": 116,
     "metadata": {},
     "output_type": "execute_result"
    }
   ],
   "source": [
    "# Import der History.txt. Getrennt in 2 Spalten durch das ] Zeichen am Ende des Timestamps\n",
    "# Spaltennamen als Timestamp und name_and_message definiert. Keine Kopfzeile.\n",
    "# Text und Name muss noch getrennt werden. \n",
    "chat = pd.read_csv('Chatlog.txt', delimiter = ']', names = ['timestamp', 'name_and_message'], header = None)\n",
    "\n",
    "# Leere Spalte für messages eingefügt\n",
    "chat['message'] = ''\n",
    "\n",
    "# Durchläuft den Chat von hinten nach vorne und prüft ob name_and_message ein missing value ist. Wenn ja, befindet sich die Nachricht im Timestamp-Feld und wird in das\n",
    "# message Feld des vorherigen Eintrags eingetragen und dazu summiert. So Befindet sich die gesamte Nachricht beim zugehörigen Timestamp\n",
    "\n",
    "for row_number in reversed(range(len(chat))):\n",
    "    if pd.isna(chat.name_and_message[row_number]):\n",
    "        chat['message'][row_number-1] =  chat.timestamp[row_number] + chat['message'][row_number]\n",
    "\n",
    "# Die Zeilen mit missing values wurden so bearbeitet und können entfernt werden.\n",
    "\n",
    "chat.dropna(inplace = True)\n",
    "chat.reset_index(inplace = True, drop = True)\n",
    "\n",
    "# Aufbereiten der timestamp-column zur Umwandlung des Objekts in ein Datetime-Objekt\n",
    "# Entfernen des [ am Start des Timestamps\n",
    "\n",
    "chat.timestamp.replace(regex = True, inplace = True, to_replace = r'\\u200e', value = r'')\n",
    "\n",
    "# Erkennen ob in timestamp ein Datum steht, das für einen reply spricht (Jahr und Sekunde fehlt).\n",
    "\n",
    "\n",
    "\n",
    "chat['replied'] = chat.timestamp.str.contains('\\[\\d{2}\\.\\d+\\.\\, \\d+\\:\\d+')\n",
    "# Umwandlung zu Datetime\n",
    "\n",
    "#chat['timestamp'] = pd.to_datetime(chat['timestamp'], format = '[%d.%m.%y, %H:%M:%S')\n",
    "\n",
    "chat.tail()"
   ]
  },
  {
   "cell_type": "code",
   "execution_count": 117,
   "metadata": {},
   "outputs": [],
   "source": [
    "chat['replied'] = chat.timestamp.str.contains('\\[\\d{2}\\.\\d+\\.\\, \\d+\\:\\d+|\\[\\d{2}\\:\\d{2}\\, \\d+\\/\\d+\\/\\d{4}' )\n",
    "\n",
    "# Anmerkung: Erkennt alle Timestamps als True ... WHY?!\n",
    "\n",
    "for row_number in reversed(range(len(chat))):\n",
    "    if chat['replied'][row_number] == True:\n",
    "        chat['message'][row_number-1] = 'reply:' + chat.name_and_message[row_number]\n",
    "        chat['replied'][row_number-1] = True\n",
    "\n",
    "chat = chat[chat.timestamp.str.contains('\\[\\d{2}\\.\\d{2}\\.\\d{2}, \\d{2}\\:\\d{2}\\:\\d{2}')]\n",
    "\n",
    "chat['timestamp'] = pd.to_datetime(chat['timestamp'], format = '[%d.%m.%y, %H:%M:%S')"
   ]
  },
  {
   "cell_type": "code",
   "execution_count": null,
   "metadata": {},
   "outputs": [],
   "source": []
  }
 ],
 "metadata": {
  "kernelspec": {
   "display_name": "Python 3",
   "language": "python",
   "name": "python3"
  },
  "language_info": {
   "codemirror_mode": {
    "name": "ipython",
    "version": 3
   },
   "file_extension": ".py",
   "mimetype": "text/x-python",
   "name": "python",
   "nbconvert_exporter": "python",
   "pygments_lexer": "ipython3",
   "version": "3.7.3"
  }
 },
 "nbformat": 4,
 "nbformat_minor": 2
}
