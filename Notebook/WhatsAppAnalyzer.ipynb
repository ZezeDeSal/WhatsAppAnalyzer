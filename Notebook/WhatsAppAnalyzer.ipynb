{
 "cells": [
  {
   "cell_type": "markdown",
   "metadata": {},
   "source": [
    "Importieren grundlegender Packages"
   ]
  },
  {
   "cell_type": "code",
   "execution_count": 2,
   "metadata": {},
   "outputs": [],
   "source": [
    "# Dataframes und Datenanalyse-Funktionen\n",
    "import pandas as pd\n",
    "\n",
    "# Numerische Berechnungen mit Dataframes/Listen etc. \n",
    "import numpy as np\n",
    "\n",
    "# \"Simple\" Diagramme\n",
    "import matplotlib.pyplot as plt\n",
    "\n",
    "# Komplexe Diagramme (exportierbar in html)\n",
    "import seaborn as sns\n",
    "\n",
    "# Einfache Klasse zum herunterladen von Google Drive Dateien\n",
    "from google_drive_downloader import GoogleDriveDownloader as gdd\n",
    "\n",
    "# Miscellaneous operating system interfaces\n",
    "import os as os\n",
    "\n",
    "# Basic date and time types\n",
    "import datetime as dt"
   ]
  },
  {
   "cell_type": "markdown",
   "metadata": {},
   "source": [
    "Wann wird das Chatlog gefetched"
   ]
  },
  {
   "cell_type": "code",
   "execution_count": 3,
   "metadata": {},
   "outputs": [
    {
     "name": "stdout",
     "output_type": "stream",
     "text": [
      "File exists\n",
      "File is not more than two days old, new file won't be fetched.\n"
     ]
    }
   ],
   "source": [
    "# Fetche das aktuelle Chatlog, wenn das aktuell gefetchte Chatlog älter als zwei Tage ist, oder das Chatlog nicht vorhanden ist\n",
    "\n",
    "# Fall 2: Chatlog ist nicht vorhanden:\n",
    "if os.path.isfile('./Chatlog.txt'):\n",
    "    FileDoesntExist=False\n",
    "    print(\"File exists\")\n",
    "else:\n",
    "    FileDoesntExist=True\n",
    "    print(\"File doesn't exist\")\n",
    "\n",
    "# Fall 1: Timestamp des Chatlogs ist älter als zwei Tage:\n",
    "if not FileDoesntExist:\n",
    "    two_days_ago = dt.datetime.now() - dt.timedelta(days=2)\n",
    "    filetime = dt.datetime.fromtimestamp(os.path.getctime('./Chatlog.txt'))\n",
    "\n",
    "    if filetime < two_days_ago:\n",
    "        FetchFileDate=True\n",
    "        print(\"File is more than two days old, new file will be fetched.\")\n",
    "\n",
    "    elif filetime > two_days_ago:\n",
    "        FetchFileDate=False\n",
    "        print(\"File is not more than two days old, new file won't be fetched.\")"
   ]
  },
  {
   "cell_type": "markdown",
   "metadata": {},
   "source": [
    "Fetchen des aktuellen Chatlogs"
   ]
  },
  {
   "cell_type": "code",
   "execution_count": 4,
   "metadata": {},
   "outputs": [
    {
     "name": "stdout",
     "output_type": "stream",
     "text": [
      "New file won't be fetched, since the file isn't too old.\n"
     ]
    }
   ],
   "source": [
    "# ToDo: Definiertes ausführen des Fetchvorgangs, abhängig davon wie alt das File ist\n",
    "if FetchFileDate or FileDoesntExist:\n",
    "    gdd.download_file_from_google_drive(file_id='1yvKE3iHCT8Rjm_iUkSJzXHVbiVhC3xxL',\n",
    "                                    dest_path='./Chatlog.txt',\n",
    "                                    unzip=False,\n",
    "                                    overwrite=True)\n",
    "else:\n",
    "    print(\"New file won't be fetched, since the file isn't too old.\")"
   ]
  },
  {
   "cell_type": "markdown",
   "metadata": {},
   "source": [
    "Definition des Chat-Dataframes"
   ]
  },
  {
   "cell_type": "code",
   "execution_count": 55,
   "metadata": {},
   "outputs": [
    {
     "data": {
      "text/html": [
       "<div>\n",
       "<style scoped>\n",
       "    .dataframe tbody tr th:only-of-type {\n",
       "        vertical-align: middle;\n",
       "    }\n",
       "\n",
       "    .dataframe tbody tr th {\n",
       "        vertical-align: top;\n",
       "    }\n",
       "\n",
       "    .dataframe thead th {\n",
       "        text-align: right;\n",
       "    }\n",
       "</style>\n",
       "<table border=\"1\" class=\"dataframe\">\n",
       "  <thead>\n",
       "    <tr style=\"text-align: right;\">\n",
       "      <th></th>\n",
       "      <th>timestamp</th>\n",
       "      <th>name_and_message</th>\n",
       "      <th>message</th>\n",
       "    </tr>\n",
       "  </thead>\n",
       "  <tbody>\n",
       "    <tr>\n",
       "      <th>92675</th>\n",
       "      <td>[27.04.19, 18:51:49</td>\n",
       "      <td>Tim Ackermann: ‎Bild weggelassen</td>\n",
       "      <td></td>\n",
       "    </tr>\n",
       "    <tr>\n",
       "      <th>92676</th>\n",
       "      <td>[27.04.19, 19:11:07</td>\n",
       "      <td>Yannic Büchele: ?</td>\n",
       "      <td></td>\n",
       "    </tr>\n",
       "    <tr>\n",
       "      <th>92677</th>\n",
       "      <td>[27.04.19, 19:22:46</td>\n",
       "      <td>emptytides: .</td>\n",
       "      <td></td>\n",
       "    </tr>\n",
       "    <tr>\n",
       "      <th>92678</th>\n",
       "      <td>[27.04.19, 19:26:15</td>\n",
       "      <td>Yannic Büchele: Echt so</td>\n",
       "      <td></td>\n",
       "    </tr>\n",
       "    <tr>\n",
       "      <th>92679</th>\n",
       "      <td>[27.04.19, 19:26:18</td>\n",
       "      <td>Yannic Büchele: Richtig was los hier</td>\n",
       "      <td></td>\n",
       "    </tr>\n",
       "  </tbody>\n",
       "</table>\n",
       "</div>"
      ],
      "text/plain": [
       "                 timestamp                       name_and_message message\n",
       "92675  [27.04.19, 18:51:49       Tim Ackermann: ‎Bild weggelassen        \n",
       "92676  [27.04.19, 19:11:07                      Yannic Büchele: ?        \n",
       "92677  [27.04.19, 19:22:46                          emptytides: .        \n",
       "92678  [27.04.19, 19:26:15                Yannic Büchele: Echt so        \n",
       "92679  [27.04.19, 19:26:18   Yannic Büchele: Richtig was los hier        "
      ]
     },
     "execution_count": 55,
     "metadata": {},
     "output_type": "execute_result"
    }
   ],
   "source": [
    "# Import der History.txt. Getrennt in 2 Spalten durch das ] Zeichen am Ende des Timestamps\n",
    "# Spaltennamen als Timestamp und name_and_message definiert. Keine Kopfzeile.\n",
    "# Text und Name muss noch getrennt werden. \n",
    "chat = pd.read_csv('Chatlog.txt', delimiter = ']', names = ['timestamp', 'name_and_message'], header = None)\n",
    "\n",
    "# Leere Spalte für messages eingefügt\n",
    "chat['message'] = ''\n",
    "\n",
    "# Durchläuft den Chat von hinten nach vorne und prüft ob name_and_message ein missing value ist. Wenn ja, befindet sich die Nachricht im Timestamp-Feld und wird in das\n",
    "# message Feld des vorherigen Eintrags eingetragen und dazu summiert. So Befindet sich die gesamte Nachricht beim zugehörigen Timestamp\n",
    "\n",
    "for row_number in reversed(range(len(chat))):\n",
    "    if pd.isna(chat.name_and_message[row_number]):\n",
    "        chat['message'][row_number-1] =  chat.timestamp[row_number] + chat['message'][row_number]\n",
    "\n",
    "# Die Zeilen mit missing values wurden so bearbeitet und können entfernt werden.\n",
    "\n",
    "chat.dropna(inplace = True)\n",
    "\n",
    "# Aufbereiten der timestamp-column zur Umwandlung des Objekts in ein Datetime-Objekt\n",
    "# Entfernen des [ am Start des Timestamps\n",
    "\n",
    "#chat.timestamp.replace(regex = True, inplace = True, to_replace = r'\\[', value = r'')\n",
    "chat.timestamp.replace(regex = True, inplace = True, to_replace = r'\\u200e', value = r'')\n",
    "\n",
    "# Umwandlung zu Datetime\n",
    "\n",
    "#chat['timestamp'] = pd.to_datetime(chat['timestamp'], format = '[%d.%m.%y, %H:%M:%S')\n",
    "\n",
    "chat.tail()"
   ]
  },
  {
   "cell_type": "code",
   "execution_count": null,
   "metadata": {},
   "outputs": [],
   "source": []
  },
  {
   "cell_type": "code",
   "execution_count": null,
   "metadata": {},
   "outputs": [],
   "source": []
  }
 ],
 "metadata": {
  "kernelspec": {
   "display_name": "Python 3",
   "language": "python",
   "name": "python3"
  },
  "language_info": {
   "codemirror_mode": {
    "name": "ipython",
    "version": 3
   },
   "file_extension": ".py",
   "mimetype": "text/x-python",
   "name": "python",
   "nbconvert_exporter": "python",
   "pygments_lexer": "ipython3",
   "version": "3.7.3"
  }
 },
 "nbformat": 4,
 "nbformat_minor": 2
}
