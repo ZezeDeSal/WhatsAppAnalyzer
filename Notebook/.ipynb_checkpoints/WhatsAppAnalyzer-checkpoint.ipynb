{
 "cells": [
  {
   "cell_type": "markdown",
   "metadata": {},
   "source": [
    "Importieren grundlegender Packages"
   ]
  },
  {
   "cell_type": "code",
   "execution_count": 30,
   "metadata": {},
   "outputs": [],
   "source": [
    "# Dataframes und Datenanalyse-Funktionen\n",
    "import pandas as pd\n",
    "\n",
    "# Numerische Berechnungen mit Dataframes/Listen etc. \n",
    "import numpy as np\n",
    "\n",
    "# \"Simple\" Diagramme\n",
    "import matplotlib.pyplot as plt\n",
    "\n",
    "# Komplexe Diagramme (exportierbar in html)\n",
    "import seaborn as sns\n",
    "\n",
    "# Einfache Klasse zum herunterladen von Google Drive Dateien\n",
    "from google_drive_downloader import GoogleDriveDownloader as gdd\n",
    "\n",
    "# Miscellaneous operating system interfaces\n",
    "import os as os\n",
    "\n",
    "# Basic date and time types\n",
    "import datetime as dt"
   ]
  },
  {
   "cell_type": "markdown",
   "metadata": {},
   "source": [
    "Einlesen des Chatverlaufs und Definition des Chat-Dataframes"
   ]
  },
  {
   "cell_type": "code",
   "execution_count": 4,
   "metadata": {},
   "outputs": [],
   "source": [
    "# Format des Chatverlaufs?\n",
    "#chat = "
   ]
  },
  {
   "cell_type": "markdown",
   "metadata": {},
   "source": [
    "Wann wird das Chatlog gefetched"
   ]
  },
  {
   "cell_type": "code",
   "execution_count": 41,
   "metadata": {},
   "outputs": [
    {
     "name": "stdout",
     "output_type": "stream",
     "text": [
      "File exists\n",
      "File is not more than two days old, new file won't be fetched.\n"
     ]
    }
   ],
   "source": [
    "# Fetche das aktuelle Chatlog, wenn das aktuell gefetchte Chatlog älter als zwei Tage ist, oder das Chatlog nicht vorhanden ist\n",
    "\n",
    "# Fall 2: Chatlog ist nicht vorhanden:\n",
    "if os.path.isfile('./Chatlog.txt'):\n",
    "    FileDoesntExist=False\n",
    "    print(\"File exists\")\n",
    "else:\n",
    "    FileDoesntExist=True\n",
    "    print(\"File doesn't exist\")\n",
    "\n",
    "# Fall 1: Timestamp des Chatlogs ist älter als zwei Tage:\n",
    "if not FileDoesntExist:\n",
    "    two_days_ago = dt.datetime.now() - dt.timedelta(days=2)\n",
    "    filetime = dt.datetime.fromtimestamp(os.path.getctime('./Chatlog.txt'))\n",
    "\n",
    "    if filetime < two_days_ago:\n",
    "        FetchFileDate=True\n",
    "        print(\"File is more than two days old, new file will be fetched.\")\n",
    "\n",
    "    elif filetime > two_days_ago:\n",
    "        FetchFileDate=False\n",
    "        print(\"File is not more than two days old, new file won't be fetched.\")"
   ]
  },
  {
   "cell_type": "markdown",
   "metadata": {},
   "source": [
    "Fetchen des aktuellen Chatlogs"
   ]
  },
  {
   "cell_type": "code",
   "execution_count": 42,
   "metadata": {},
   "outputs": [
    {
     "name": "stdout",
     "output_type": "stream",
     "text": [
      "New file won't be fetched, since the file isn't too old.\n"
     ]
    }
   ],
   "source": [
    "# ToDo: Definiertes ausführen des Fetchvorgangs, abhängig davon wie alt das File ist\n",
    "if FetchFileDate or FileDoesntExist:\n",
    "    gdd.download_file_from_google_drive(file_id='1yvKE3iHCT8Rjm_iUkSJzXHVbiVhC3xxL',\n",
    "                                    dest_path='./Chatlog.txt',\n",
    "                                    unzip=False,\n",
    "                                    overwrite=True)\n",
    "else:\n",
    "    print(\"New file won't be fetched, since the file isn't too old.\")"
   ]
  }
 ],
 "metadata": {
  "kernelspec": {
   "display_name": "Python 3",
   "language": "python",
   "name": "python3"
  },
  "language_info": {
   "codemirror_mode": {
    "name": "ipython",
    "version": 3
   },
   "file_extension": ".py",
   "mimetype": "text/x-python",
   "name": "python",
   "nbconvert_exporter": "python",
   "pygments_lexer": "ipython3",
   "version": "3.7.3"
  }
 },
 "nbformat": 4,
 "nbformat_minor": 2
}
